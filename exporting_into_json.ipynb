{
 "cells": [
  {
   "cell_type": "markdown",
   "metadata": {
    "heading_collapsed": true
   },
   "source": [
    "# Imports"
   ]
  },
  {
   "cell_type": "code",
   "execution_count": 1,
   "metadata": {
    "ExecuteTime": {
     "end_time": "2019-05-30T08:51:36.742191Z",
     "start_time": "2019-05-30T08:51:36.736195Z"
    },
    "hidden": true
   },
   "outputs": [],
   "source": [
    "import AnuLibrary, writeFact\n",
    "# import graphviz\n",
    "from anytree import (Node, AnyNode, RenderTree, AsciiStyle, ContRoundStyle, ContStyle, DoubleStyle, search)\n",
    "from graphviz import render, Source\n",
    "from anytree.importer import JsonImporter\n",
    "from anytree.exporter import DotExporter # graphviz needs to be installed\n",
    "from IPython.display import Image\n",
    "\n",
    "# from IPython.display import HTML #DF style (HTML(relation_df.to_html(classes='table table-condensed')))\n",
    "# path = '/home/kishori/rule1E_tmp/2.1/'\n"
   ]
  },
  {
   "cell_type": "markdown",
   "metadata": {
    "heading_collapsed": true
   },
   "source": [
    "# Create df from file"
   ]
  },
  {
   "cell_type": "code",
   "execution_count": 14,
   "metadata": {
    "ExecuteTime": {
     "end_time": "2019-05-30T07:55:52.092750Z",
     "start_time": "2019-05-30T07:55:52.056776Z"
    },
    "hidden": true
   },
   "outputs": [],
   "source": [
    "relation_df = AnuLibrary.create_dataframe('hindi_dep_parser_original.dat') \n",
    "\n",
    "# relation_df"
   ]
  },
  {
   "cell_type": "markdown",
   "metadata": {
    "heading_collapsed": true
   },
   "source": [
    "# df additions"
   ]
  },
  {
   "cell_type": "code",
   "execution_count": 3,
   "metadata": {
    "ExecuteTime": {
     "end_time": "2019-05-30T10:49:01.152454Z",
     "start_time": "2019-05-30T10:49:01.132460Z"
    },
    "hidden": true,
    "scrolled": true
   },
   "outputs": [
    {
     "data": {
      "text/plain": [
       "{'PID': 1      1\n",
       " 2      2\n",
       " 3      3\n",
       " 4      4\n",
       " 5      5\n",
       " 6      6\n",
       " 7      7\n",
       " 8      8\n",
       " 9      9\n",
       " 10    10\n",
       " 11    11\n",
       " 12    12\n",
       " 13    13\n",
       " 14    14\n",
       " 15    15\n",
       " 16    16\n",
       " 17    17\n",
       " 18    18\n",
       " 19    19\n",
       " 20    20\n",
       " 21    21\n",
       " 22    22\n",
       " 23    23\n",
       " Name: PID, dtype: int64, 'PIDWITH': 1      2\n",
       " 2      4\n",
       " 3      2\n",
       " 4      5\n",
       " 5      7\n",
       " 6      5\n",
       " 7     21\n",
       " 8      7\n",
       " 9     20\n",
       " 10    11\n",
       " 11     9\n",
       " 12    13\n",
       " 13     9\n",
       " 14    15\n",
       " 15     9\n",
       " 16    18\n",
       " 17    18\n",
       " 18     9\n",
       " 19    18\n",
       " 20    21\n",
       " 21     0\n",
       " 22    21\n",
       " 23    21\n",
       " Name: PIDWITH, dtype: int64, 'POS': 1      NOUN\n",
       " 2      NOUN\n",
       " 3       ADP\n",
       " 4      VERB\n",
       " 5      NOUN\n",
       " 6       ADP\n",
       " 7      NOUN\n",
       " 8       ADP\n",
       " 9      NOUN\n",
       " 10    PUNCT\n",
       " 11     NOUN\n",
       " 12    PUNCT\n",
       " 13     NOUN\n",
       " 14    PUNCT\n",
       " 15     NOUN\n",
       " 16    PUNCT\n",
       " 17    CCONJ\n",
       " 18     NOUN\n",
       " 19      ADP\n",
       " 20     NOUN\n",
       " 21      ADJ\n",
       " 22      AUX\n",
       " 23    PUNCT\n",
       " Name: POS, dtype: object, 'RELATION': 1     compound\n",
       " 2          obl\n",
       " 3         case\n",
       " 4          acl\n",
       " 5         nmod\n",
       " 6         case\n",
       " 7         nmod\n",
       " 8         case\n",
       " 9         nmod\n",
       " 10       punct\n",
       " 11        conj\n",
       " 12       punct\n",
       " 13        conj\n",
       " 14       punct\n",
       " 15        conj\n",
       " 16       punct\n",
       " 17          cc\n",
       " 18        conj\n",
       " 19        case\n",
       " 20       nsubj\n",
       " 21        root\n",
       " 22         cop\n",
       " 23       punct\n",
       " Name: RELATION, dtype: object, 'WORD': 1      hadZappA\n",
       " 2        sWaloM\n",
       " 3            se\n",
       " 4          milI\n",
       " 5     jAnavaroM\n",
       " 6            kI\n",
       " 7      haddiyoM\n",
       " 8           meM\n",
       " 9     maveSiyoM\n",
       " 10            ,\n",
       " 11        BedZa\n",
       " 12            ,\n",
       " 13       bakarI\n",
       " 14            ,\n",
       " 15        BEMsa\n",
       " 16            ,\n",
       " 17         waWA\n",
       " 18        sUara\n",
       " 19           kI\n",
       " 20     haddiyAz\n",
       " 21       SAmila\n",
       " 22          hEM\n",
       " 23            |\n",
       " Name: WORD, dtype: object}"
      ]
     },
     "execution_count": 3,
     "metadata": {},
     "output_type": "execute_result"
    }
   ],
   "source": [
    "relation_df\n",
    "\n",
    "# dropping null value columns to avoid errors \n",
    "relation_df.dropna(inplace = True) \n",
    "  \n",
    "# converting to dict \n",
    "relation_dict = relation_df.to_dict(\"series\") \n",
    "  \n",
    "# display \n",
    "relation_dict\n",
    "\n",
    "# hadZappA = Node(\"hadZappA\", parent=sWaloM, word_id =1 , word=hadZappA , pos=NOUN , head_id=2 , relation=compound)\n"
   ]
  },
  {
   "cell_type": "markdown",
   "metadata": {
    "heading_collapsed": true
   },
   "source": [
    "# df to json"
   ]
  },
  {
   "cell_type": "code",
   "execution_count": 5,
   "metadata": {
    "ExecuteTime": {
     "end_time": "2019-05-30T07:42:50.213111Z",
     "start_time": "2019-05-30T07:42:49.952108Z"
    },
    "code_folding": [],
    "hidden": true
   },
   "outputs": [],
   "source": [
    "#conde which converts dataframe into different json formats. \n",
    "#I feel either index.json or table.json is efficient way to store all tree info\n",
    "\n",
    "# Column format(default format)\n",
    "\n",
    "relation_df.to_json('column.json')\n",
    "\n",
    "# json format ---> split\n",
    "\n",
    "relation_df.to_json('split.json',orient='split')\n",
    "\n",
    "# json format ---> table\n",
    "\n",
    "relation_df.to_json('table.json',orient='table')\n",
    "\n",
    "# json format ---> values\n",
    "\n",
    "relation_df.to_json('values.json',orient='values')\n",
    "\n",
    "# json format ---> index\n",
    "\n",
    "relation_df.to_json('index.json',orient='index')\n"
   ]
  },
  {
   "cell_type": "code",
   "execution_count": 18,
   "metadata": {},
   "outputs": [
    {
     "name": "stdout",
     "output_type": "stream",
     "text": [
      "<type 'dict'>\n",
      "<class 'anytree.node.anynode.AnyNode'>\n",
      "AnyNode(a='root')\n",
      "├── AnyNode(a='sub0')\n",
      "│   ├── AnyNode(a='sub0A', b='foo')\n",
      "│   └── AnyNode(a='sub0B')\n",
      "└── AnyNode(a='sub1')\n"
     ]
    }
   ],
   "source": [
    "#code to generate n-ary tree form json\n",
    "from anytree.importer import DictImporter\n",
    "from anytree import RenderTree\n",
    "from IPython.display import Image\n",
    "from anytree.exporter import DotExporter\n",
    "\n",
    "importer = DictImporter()\n",
    "json_data = {\n",
    "  'a': 'root',\n",
    "     'children': [{'a': 'sub0',\n",
    "                   'children': [{'a': 'sub0A', 'b': 'foo'}, {'a': 'sub0B'}]},\n",
    "                 {'a': 'sub1'}]}\n",
    "\n",
    "print(type(json_data))\n",
    "root = importer.import_(json_data)\n",
    "print(type(root))\n",
    "print(RenderTree(root))"
   ]
  },
  {
   "cell_type": "code",
   "execution_count": 19,
   "metadata": {},
   "outputs": [
    {
     "name": "stdout",
     "output_type": "stream",
     "text": [
      "[(2, 1), (4, 2), (2, 3), (5, 4), (7, 5), (5, 6), (21, 7), (7, 8), (20, 9), (11, 10), (9, 11), (13, 12), (9, 13), (15, 14), (9, 15), (18, 16), (18, 17), (9, 18), (18, 19), (21, 20), (0, 21), (21, 22), (21, 23)]\n"
     ]
    },
    {
     "data": {
      "text/plain": [
       "{'0': ['21'],\n",
       " '11': ['10'],\n",
       " '13': ['12'],\n",
       " '15': ['14'],\n",
       " '18': ['16', '17', '19'],\n",
       " '2': ['1', '3'],\n",
       " '20': ['9'],\n",
       " '21': ['7', '20', '22', '23'],\n",
       " '4': ['2'],\n",
       " '5': ['4', '6'],\n",
       " '7': ['5', '8'],\n",
       " '9': ['11', '13', '15', '18']}"
      ]
     },
     "execution_count": 19,
     "metadata": {},
     "output_type": "execute_result"
    }
   ],
   "source": [
    "#Some code which I tried(for converting dictionary into n-ary tree) :\n",
    "# I was trying to do this: https://anytree.readthedocs.io/en/latest/importer/dictimporter.html\n",
    "\n",
    "import AnuLibrary, writeFact, tree, anytree\n",
    "\n",
    "relation_df = AnuLibrary.create_dataframe('hindi_dep_parser_original.dat') \n",
    "\n",
    "#list of tuple of child_id to head_id\n",
    "cid_hid = writeFact.extractUnlabelledDependency(relation_df)\n",
    "\n",
    "#list of tuple of head_if to child_id\n",
    "hid_cid = tree.reverse_tuple_list(cid_hid)\n",
    "print(hid_cid)\n",
    "\n",
    "\n",
    "#dictionary of head to children nodes\n",
    "head_children_dict = tree.head_to_children_dict(hid_cid)\n",
    "\n",
    "head_children_dict\n",
    "\n",
    "data={}\n",
    "data['0']='root'\n",
    "\n",
    "#converting all int values of head_children_dict into string values\n",
    "for k,vals in head_children_dict.items():\n",
    "    data[str(k)] = [str(v) for v in vals]\n",
    "data\n",
    "\n"
   ]
  },
  {
   "cell_type": "code",
   "execution_count": null,
   "metadata": {},
   "outputs": [],
   "source": [
    "#convert data(dictionry) into json_data(dictionary) format"
   ]
  }
 ],
 "metadata": {
  "kernelspec": {
   "display_name": "Python 3",
   "language": "python",
   "name": "python3"
  },
  "language_info": {
   "codemirror_mode": {
    "name": "ipython",
    "version": 2
   },
   "file_extension": ".py",
   "mimetype": "text/x-python",
   "name": "python",
   "nbconvert_exporter": "python",
   "pygments_lexer": "ipython2",
   "version": "2.7.16"
  },
  "varInspector": {
   "cols": {
    "lenName": 16,
    "lenType": 16,
    "lenVar": 40
   },
   "kernels_config": {
    "python": {
     "delete_cmd_postfix": "",
     "delete_cmd_prefix": "del ",
     "library": "var_list.py",
     "varRefreshCmd": "print(var_dic_list())"
    },
    "r": {
     "delete_cmd_postfix": ") ",
     "delete_cmd_prefix": "rm(",
     "library": "var_list.r",
     "varRefreshCmd": "cat(var_dic_list()) "
    }
   },
   "types_to_exclude": [
    "module",
    "function",
    "builtin_function_or_method",
    "instance",
    "_Feature"
   ],
   "window_display": false
  }
 },
 "nbformat": 4,
 "nbformat_minor": 2
}
