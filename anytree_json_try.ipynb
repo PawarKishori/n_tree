{
 "cells": [
  {
   "cell_type": "code",
   "execution_count": 1,
   "metadata": {
    "ExecuteTime": {
     "end_time": "2019-05-30T07:21:33.654726Z",
     "start_time": "2019-05-30T07:21:33.619731Z"
    }
   },
   "outputs": [
    {
     "name": "stdout",
     "output_type": "stream",
     "text": [
      "[(2, 1), (4, 2), (2, 3), (5, 4), (7, 5), (5, 6), (21, 7), (7, 8), (20, 9), (11, 10), (9, 11), (13, 12), (9, 13), (15, 14), (9, 15), (18, 16), (18, 17), (9, 18), (18, 19), (21, 20), (0, 21), (21, 22), (21, 23)]\n"
     ]
    },
    {
     "data": {
      "text/plain": [
       "{'0': ['21'],\n",
       " '11': ['10'],\n",
       " '13': ['12'],\n",
       " '15': ['14'],\n",
       " '18': ['16', '17', '19'],\n",
       " '2': ['1', '3'],\n",
       " '20': ['9'],\n",
       " '21': ['7', '20', '22', '23'],\n",
       " '4': ['2'],\n",
       " '5': ['4', '6'],\n",
       " '7': ['5', '8'],\n",
       " '9': ['11', '13', '15', '18']}"
      ]
     },
     "execution_count": 1,
     "metadata": {},
     "output_type": "execute_result"
    }
   ],
   "source": [
    "import AnuLibrary, writeFact, tree, anytree\n",
    "\n",
    "relation_df = AnuLibrary.create_dataframe('hindi_dep_parser_original.dat') \n",
    "\n",
    "cid_hid = writeFact.extractUnlabelledDependency(relation_df)\n",
    "hid_cid = tree.reverse_tuple_list(cid_hid)\n",
    "\n",
    "head_children_dict = tree.head_to_children_dict(hid_cid)\n",
    "\n",
    "print(hid_cid)\n",
    "head_children_dict\n",
    "\n",
    "data={}\n",
    "data['0']='root'\n",
    "\n",
    "for k,vals in head_children_dict.items():\n",
    "    data[str(k)] = [str(v) for v in vals]\n",
    "data"
   ]
  },
  {
   "cell_type": "code",
   "execution_count": 22,
   "metadata": {},
   "outputs": [
    {
     "name": "stdout",
     "output_type": "stream",
     "text": [
      "<class 'anytree.node.anynode.AnyNode'>\n",
      "AnyNode(a='root')\n",
      "├── AnyNode(a='sub0')\n",
      "│   ├── AnyNode(a='sub0A', b='foo')\n",
      "│   └── AnyNode(a='sub0B')\n",
      "└── AnyNode(a='sub1')\n"
     ]
    }
   ],
   "source": [
    "from anytree.importer import DictImporter\n",
    "from anytree import RenderTree\n",
    "from IPython.display import Image\n",
    "from anytree.exporter import DotExporter\n",
    "\n",
    "\n",
    "importer = DictImporter()\n",
    "data = {\n",
    "  'a': 'root',\n",
    "     'children': [{'a': 'sub0',\n",
    "                   'children': [{'a': 'sub0A', 'b': 'foo'}, {'a': 'sub0B'}]},\n",
    "                 {'a': 'sub1'}]}\n",
    "\n",
    "\n",
    "root = importer.import_(data)\n",
    "print(type(root))\n",
    "print(RenderTree(root))\n",
    "# DotExporter(root).to_dotfile(\"tree.dot\")\n",
    "# DotExporter(root).to_picture(\"momo.png\")\n",
    "# Image(filename=\"momo.png\")"
   ]
  },
  {
   "cell_type": "code",
   "execution_count": 1,
   "metadata": {},
   "outputs": [
    {
     "name": "stdout",
     "output_type": "stream",
     "text": [
      "AnyNode(data=[{u'index': 1, u'WORD': u'hadZappA', u'PID': 1, u'PIDWITH': 2, u'POS': u'NOUN', u'RELATION': u'compound'}, {u'index': 2, u'WORD': u'sWaloM', u'PID': 2, u'PIDWITH': 4, u'POS': u'NOUN', u'RELATION': u'obl'}, {u'index': 3, u'WORD': u'se', u'PID': 3, u'PIDWITH': 2, u'POS': u'ADP', u'RELATION': u'case'}, {u'index': 4, u'WORD': u'milI', u'PID': 4, u'PIDWITH': 5, u'POS': u'VERB', u'RELATION': u'acl'}, {u'index': 5, u'WORD': u'jAnavaroM', u'PID': 5, u'PIDWITH': 7, u'POS': u'NOUN', u'RELATION': u'nmod'}, {u'index': 6, u'WORD': u'kI', u'PID': 6, u'PIDWITH': 5, u'POS': u'ADP', u'RELATION': u'case'}, {u'index': 7, u'WORD': u'haddiyoM', u'PID': 7, u'PIDWITH': 21, u'POS': u'NOUN', u'RELATION': u'nmod'}, {u'index': 8, u'WORD': u'meM', u'PID': 8, u'PIDWITH': 7, u'POS': u'ADP', u'RELATION': u'case'}, {u'index': 9, u'WORD': u'maveSiyoM', u'PID': 9, u'PIDWITH': 20, u'POS': u'NOUN', u'RELATION': u'nmod'}, {u'index': 10, u'WORD': u',', u'PID': 10, u'PIDWITH': 11, u'POS': u'PUNCT', u'RELATION': u'punct'}, {u'index': 11, u'WORD': u'BedZa', u'PID': 11, u'PIDWITH': 9, u'POS': u'NOUN', u'RELATION': u'conj'}, {u'index': 12, u'WORD': u',', u'PID': 12, u'PIDWITH': 13, u'POS': u'PUNCT', u'RELATION': u'punct'}, {u'index': 13, u'WORD': u'bakarI', u'PID': 13, u'PIDWITH': 9, u'POS': u'NOUN', u'RELATION': u'conj'}, {u'index': 14, u'WORD': u',', u'PID': 14, u'PIDWITH': 15, u'POS': u'PUNCT', u'RELATION': u'punct'}, {u'index': 15, u'WORD': u'BEMsa', u'PID': 15, u'PIDWITH': 9, u'POS': u'NOUN', u'RELATION': u'conj'}, {u'index': 16, u'WORD': u',', u'PID': 16, u'PIDWITH': 18, u'POS': u'PUNCT', u'RELATION': u'punct'}, {u'index': 17, u'WORD': u'waWA', u'PID': 17, u'PIDWITH': 18, u'POS': u'CCONJ', u'RELATION': u'cc'}, {u'index': 18, u'WORD': u'sUara', u'PID': 18, u'PIDWITH': 9, u'POS': u'NOUN', u'RELATION': u'conj'}, {u'index': 19, u'WORD': u'kI', u'PID': 19, u'PIDWITH': 18, u'POS': u'ADP', u'RELATION': u'case'}, {u'index': 20, u'WORD': u'haddiyAz', u'PID': 20, u'PIDWITH': 21, u'POS': u'NOUN', u'RELATION': u'nsubj'}, {u'index': 21, u'WORD': u'SAmila', u'PID': 21, u'PIDWITH': 0, u'POS': u'ADJ', u'RELATION': u'root'}, {u'index': 22, u'WORD': u'hEM', u'PID': 22, u'PIDWITH': 21, u'POS': u'AUX', u'RELATION': u'cop'}, {u'index': 23, u'WORD': u'|', u'PID': 23, u'PIDWITH': 21, u'POS': u'PUNCT', u'RELATION': u'punct'}], schema={u'fields': [{u'type': u'integer', u'name': u'index'}, {u'type': u'integer', u'name': u'PID'}, {u'type': u'string', u'name': u'WORD'}, {u'type': u'string', u'name': u'POS'}, {u'type': u'string', u'name': u'RELATION'}, {u'type': u'integer', u'name': u'PIDWITH'}], u'pandas_version': u'0.20.0', u'primaryKey': [u'index']})\n"
     ]
    }
   ],
   "source": [
    "# from anytree.importer import DictImporter\n",
    "from anytree.importer import JsonImporter\n",
    "from anytree import RenderTree\n",
    "from anytree import AnyNode, RenderTree\n",
    "# importer = DictImporter()\n",
    "# root = importer.import_(data)\n",
    "# print(RenderTree(root))\n",
    "\n",
    "importer = JsonImporter()\n",
    "data= open('table.json',\"r\").read()\n",
    "# print(data)\n",
    "root = importer.import_(data)\n",
    "print(RenderTree(root))\n",
    "\n",
    "# print(RenderTree(node9, style=ContRoundStyle()))\n",
    "# # Render graph tree\n",
    "# DotExporter(root).to_picture(\"node9.png\")\n",
    "# Image(filename='node9.png')\n",
    "# # print(RenderTree(root, style=ContRoundStyle()))\n"
   ]
  },
  {
   "cell_type": "code",
   "execution_count": 30,
   "metadata": {},
   "outputs": [
    {
     "name": "stdout",
     "output_type": "stream",
     "text": [
      "row_index | ( head_id, child_id)\n",
      "0            (2, 1)\n",
      "1            (4, 2)\n",
      "2            (2, 3)\n",
      "3            (5, 4)\n",
      "4            (7, 5)\n",
      "5            (5, 6)\n",
      "6            (21, 7)\n",
      "7            (7, 8)\n",
      "8            (20, 9)\n",
      "9            (11, 10)\n",
      "10            (9, 11)\n",
      "11            (13, 12)\n",
      "12            (9, 13)\n",
      "13            (15, 14)\n",
      "14            (9, 15)\n",
      "15            (18, 16)\n",
      "16            (18, 17)\n",
      "17            (9, 18)\n",
      "18            (18, 19)\n",
      "19            (21, 20)\n",
      "20            (0, 21)\n",
      "21            (21, 22)\n",
      "22            (21, 23)\n",
      "------\n",
      "1  is child\n",
      "row_index:     [20, 6, 4, 3, 1, 0]\n",
      "next_element:  [21, 7, 5, 4, 2, 1]\n",
      "range(0, 22)\n"
     ]
    }
   ],
   "source": [
    "def get_index(elem, list_tuple):\n",
    "    index = [list_tuple.index(tupl) for tupl in list_tuple if tupl[0]==elem][0]\n",
    "    return (index)\n",
    "    \n",
    "def find_root_to_children_sequence(elem, list_tuple, all_seq, all_next, already_done):\n",
    "    if elem in already_done:\n",
    "        raise Exception\n",
    "    indx = get_index(elem, list_tuple)\n",
    "    all_seq.append(indx)\n",
    "    next_elem = list_tuple[indx][1]\n",
    "    all_next.append(next_elem)\n",
    "#     print(next_elem)\n",
    "    try:\n",
    "        find_root_to_children_sequence(next_elem, list_tuple, all_seq,all_next ,already_done+[elem] )\n",
    "    except:\n",
    "        print(next_elem,\" is child\")\n",
    "    return(all_seq,all_next )\n",
    "    \n",
    "# get_index(0, hid_cid)\n",
    "all_seq=[]; all_next=[]\n",
    "print(\"row_index\", \"| ( head_id, child_id)\")\n",
    "for i,v in enumerate(hid_cid):\n",
    "    print(i,\"          \",v)\n",
    "print(\"------\")\n",
    "row_index, next_element = find_root_to_children_sequence(0,hid_cid, all_seq, all_next,[])\n",
    "print(\"row_index:    \",row_index )\n",
    "print(\"next_element: \", next_element)\n",
    "no_of_rows = len(relation_df.index)\n",
    "df_rows_indecies = range(0, no_of_rows-1)\n",
    "print(df_rows_indecies)\n"
   ]
  },
  {
   "cell_type": "code",
   "execution_count": 2,
   "metadata": {},
   "outputs": [
    {
     "name": "stdout",
     "output_type": "stream",
     "text": [
      "0  is a child node \n"
     ]
    }
   ],
   "source": [
    "\n",
    "def get_index_of_tuple_whose_first_element_is(tupl_first_elem, list_of_tuples, already_done):\n",
    "    all_index_seq=[]\n",
    "#     if tupl_first_elem in already_done:\n",
    "#         raise Exception\n",
    "    at_index = [list_of_tuples.index(tupl) for tupl in list_of_tuples if tupl[0] == tupl_first_elem][0]\n",
    "    all_index_seq.append(at_index)\n",
    "    get_index_of_tuple_whose_first_element_is(at_index, list_of_tuples, already_done+[tupl_first_elem])\n",
    "    return(all_index_seq)\n",
    "\n",
    "\n",
    "tupl_first_elem = 0\n",
    "try:\n",
    "    tupl,at_index ,tupl_next_elem = get_index_of_tuple_whose_first_element_is(tupl_first_elem, hid_cid,[])\n",
    "except:\n",
    "    print(tupl_first_elem, \" is a child node \")"
   ]
  },
  {
   "cell_type": "code",
   "execution_count": 1,
   "metadata": {},
   "outputs": [
    {
     "name": "stdout",
     "output_type": "stream",
     "text": [
      "0  is a child node \n"
     ]
    }
   ],
   "source": [
    "\n",
    "def get_index_of_tuple_whose_first_element_is(tupl_first_elem, list_of_tuples, already_done):\n",
    "#     for tupl in list_of_tuples:\n",
    "#         if tupl[0]!=tupl_first_elem:\n",
    "#             return(0)\n",
    "# #             print(\"nope\")\n",
    "    if tupl_first_elem in already_done:\n",
    "            raise Exception\n",
    "    at_index = [list_of_tuples.index(tupl) for tupl in list_of_tuples if tupl[0] == tupl_first_elem][0]\n",
    "#     tupl = [tupl for tupl in list_of_tuples if tupl[0] == tupl_first_elem][0]\n",
    "#     tupl_next_elem = [tupl[1] for tupl in list_of_tuples if tupl[0] == tupl_first_elem][0]\n",
    "    return(at_index)\n",
    "\n",
    "    return([tupl,at_index ,tupl_next_elem])\n",
    "\n",
    "\n",
    "tupl_first_elem = 0\n",
    "try:\n",
    "    tupl,at_index ,tupl_next_elem = get_index_of_tuple_whose_first_element_is(tupl_first_elem, hid_cid,[])\n",
    "except:\n",
    "    print(tupl_first_elem, \" is a child node \")\n",
    "#     continue\n",
    "\n",
    "\n",
    "\n",
    "\n",
    "# new_hid_seq = []\n",
    "\n",
    "\n",
    "# for pair in hid_cid:\n",
    "#     next = 0\n",
    "    \n",
    "    \n",
    "#     while(True):\n",
    "#         if pair[0] == next:\n",
    "#             print(pair)\n",
    "#             next = pair[1]\n",
    "#             print(next)"
   ]
  },
  {
   "cell_type": "code",
   "execution_count": 4,
   "metadata": {},
   "outputs": [
    {
     "ename": "NameError",
     "evalue": "name 'vowels' is not defined",
     "output_type": "error",
     "traceback": [
      "\u001b[0;31m---------------------------------------------------------------------------\u001b[0m",
      "\u001b[0;31mNameError\u001b[0m                                 Traceback (most recent call last)",
      "\u001b[0;32m<ipython-input-4-cbce77a15305>\u001b[0m in \u001b[0;36m<module>\u001b[0;34m\u001b[0m\n\u001b[0;32m----> 1\u001b[0;31m \u001b[0mindex\u001b[0m \u001b[0;34m=\u001b[0m \u001b[0mvowels\u001b[0m\u001b[0;34m.\u001b[0m\u001b[0mindex\u001b[0m\u001b[0;34m(\u001b[0m\u001b[0;34m'e'\u001b[0m\u001b[0;34m)\u001b[0m\u001b[0;34m\u001b[0m\u001b[0;34m\u001b[0m\u001b[0m\n\u001b[0m",
      "\u001b[0;31mNameError\u001b[0m: name 'vowels' is not defined"
     ]
    }
   ],
   "source": [
    "index = vowels.index('e')\n"
   ]
  },
  {
   "cell_type": "code",
   "execution_count": null,
   "metadata": {},
   "outputs": [],
   "source": [
    "while True:  \n",
    "    print(i)  \n",
    "    i = i + 1  \n",
    "    if(i > 5):  \n",
    "        break "
   ]
  }
 ],
 "metadata": {
  "kernelspec": {
   "display_name": "Python 3",
   "language": "python",
   "name": "python3"
  },
  "language_info": {
   "codemirror_mode": {
    "name": "ipython",
    "version": 2
   },
   "file_extension": ".py",
   "mimetype": "text/x-python",
   "name": "python",
   "nbconvert_exporter": "python",
   "pygments_lexer": "ipython2",
   "version": "2.7.16"
  },
  "varInspector": {
   "cols": {
    "lenName": 16,
    "lenType": 16,
    "lenVar": 40
   },
   "kernels_config": {
    "python": {
     "delete_cmd_postfix": "",
     "delete_cmd_prefix": "del ",
     "library": "var_list.py",
     "varRefreshCmd": "print(var_dic_list())"
    },
    "r": {
     "delete_cmd_postfix": ") ",
     "delete_cmd_prefix": "rm(",
     "library": "var_list.r",
     "varRefreshCmd": "cat(var_dic_list()) "
    }
   },
   "types_to_exclude": [
    "module",
    "function",
    "builtin_function_or_method",
    "instance",
    "_Feature"
   ],
   "window_display": false
  }
 },
 "nbformat": 4,
 "nbformat_minor": 2
}
