{
 "cells": [
  {
   "cell_type": "code",
   "execution_count": 8,
   "metadata": {},
   "outputs": [
    {
     "data": {
      "text/plain": [
       "{0: [21],\n",
       " 2: [1, 3],\n",
       " 4: [2],\n",
       " 5: [4, 6],\n",
       " 7: [5, 8],\n",
       " 9: [11, 13, 15, 18],\n",
       " 11: [10],\n",
       " 13: [12],\n",
       " 15: [14],\n",
       " 18: [16, 17, 19],\n",
       " 20: [9],\n",
       " 21: [7, 20, 22, 23]}"
      ]
     },
     "execution_count": 8,
     "metadata": {},
     "output_type": "execute_result"
    }
   ],
   "source": [
    "import AnuLibrary, writeFact, tree\n",
    "relation_df = AnuLibrary.create_dataframe('hindi_dep_parser_original.dat') \n",
    "# print(relation_df)\n",
    "cid_hid = writeFact.extractUnlabelledDependency(relation_df)\n",
    "hid_cid = tree.reverse_tuple_list(cid_hid)\n",
    "# print(hid_cid)\n",
    "\n",
    "\n",
    "new_dict= tree.head_to_children_dict(hid_cid)\n",
    "new_dict"
   ]
  },
  {
   "cell_type": "code",
   "execution_count": 2,
   "metadata": {},
   "outputs": [
    {
     "name": "stdout",
     "output_type": "stream",
     "text": [
      "1\n",
      "2\n",
      "3\n",
      "4\n",
      "5\n"
     ]
    }
   ],
   "source": [
    "#https://medium.com/@lenchen/leetcode-429-n-ary-tree-level-order-traversal-fb3c02387d0f"
   ]
  },
  {
   "cell_type": "code",
   "execution_count": null,
   "metadata": {},
   "outputs": [],
   "source": []
  }
 ],
 "metadata": {
  "kernelspec": {
   "display_name": "Python 3",
   "language": "python",
   "name": "python3"
  },
  "language_info": {
   "codemirror_mode": {
    "name": "ipython",
    "version": 2
   },
   "file_extension": ".py",
   "mimetype": "text/x-python",
   "name": "python",
   "nbconvert_exporter": "python",
   "pygments_lexer": "ipython2",
   "version": "2.7.16"
  }
 },
 "nbformat": 4,
 "nbformat_minor": 2
}
